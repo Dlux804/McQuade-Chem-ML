{
 "cells": [
  {
   "cell_type": "markdown",
   "metadata": {
    "collapsed": true,
    "pycharm": {
     "name": "#%% md\n"
    }
   },
   "source": [
    "# Creating and Visualizing Molecular Fragments with RDKit.\n",
    "\n",
    "The goal of this notebook is to explore how to get molecular fragments from circular fingerprints calculated by RDKit.\n",
    "Additionally, we would like to visualize these fragments.  Ultimately, they will be used in a knowledge graph to help\n",
    "describe molecules."
   ]
  },
  {
   "cell_type": "markdown",
   "metadata": {
    "pycharm": {
     "name": "#%% md\n"
    }
   },
   "source": [
    "### Imports\n",
    "\n"
   ]
  },
  {
   "cell_type": "code",
   "execution_count": 10,
   "metadata": {
    "pycharm": {
     "name": "#%%\n"
    }
   },
   "outputs": [],
   "source": [
    "from rdkit import Chem\n",
    "from rdkit.Chem import Draw\n",
    "from rdkit.Chem import AllChem"
   ]
  },
  {
   "cell_type": "code",
   "execution_count": 11,
   "metadata": {
    "pycharm": {
     "name": "#%%\n"
    }
   },
   "outputs": [
    {
     "data": {
      "image/png": "[encoded data removed]",
      "text/plain": [
       "<rdkit.Chem.rdchem.Mol at 0x1babbd77120>"
      ]
     },
     "execution_count": 11,
     "metadata": {},
     "output_type": "execute_result"
    }
   ],
   "source": [
    "m = Chem.MolFromSmiles('c1cccnc1C')\n",
    "info={}  # place to store info about the fingerprint.\n",
    "fp = AllChem.GetMorganFingerprint(m,3,bitInfo=info)\n",
    "m"
   ]
  },
  {
   "cell_type": "code",
   "execution_count": 12,
   "metadata": {
    "pycharm": {
     "name": "#%%\n"
    }
   },
   "outputs": [
    {
     "name": "stdout",
     "output_type": "stream",
     "text": [
      "ccc(C)nc\n"
     ]
    }
   ],
   "source": [
    "env = Chem.FindAtomEnvironmentOfRadiusN(m,2,5)\n",
    "amap={}\n",
    "submol=Chem.PathToSubmol(m,env,atomMap=amap)\n",
    "submol.GetNumAtoms()\n",
    "subsmi = str(Chem.MolToSmiles(submol))\n",
    "print(subsmi)\n",
    "sub = Chem.MolFromSmiles(subsmi)  # doesnt work because the sub molecule\n",
    "sub"
   ]
  },
  {
   "cell_type": "markdown",
   "metadata": {
    "pycharm": {
     "name": "#%% md\n"
    }
   },
   "source": [
    "The below method does the same thing, but the documentation says it is more effecient, especially for large sets of molecules."
   ]
  },
  {
   "cell_type": "code",
   "execution_count": 13,
   "metadata": {
    "pycharm": {
     "name": "#%%\n"
    }
   },
   "outputs": [
    {
     "data": {
      "text/plain": [
       "'c(C)(cc)nc'"
      ]
     },
     "execution_count": 13,
     "metadata": {},
     "output_type": "execute_result"
    }
   ],
   "source": [
    "atoms=set()\n",
    "for bidx in env:\n",
    "    atoms.add(m.GetBondWithIdx(bidx).GetBeginAtomIdx())\n",
    "    atoms.add(m.GetBondWithIdx(bidx).GetEndAtomIdx())\n",
    "\n",
    "Chem.MolFragmentToSmiles(m,atomsToUse=list(atoms),bondsToUse=env,rootedAtAtom=5)"
   ]
  },
  {
   "cell_type": "markdown",
   "metadata": {
    "pycharm": {
     "name": "#%% md\n"
    }
   },
   "source": [
    "## Visualizing Fragments\n",
    "The above code to show the submolecule doesn't work because the sub-molecule smiles is invalid for a full molecule.\n",
    "It has arromatic carbons listed in it, but no closed ring.  So we can get SMILES that way, but need another approach\n",
    "to getting visuals.\n"
   ]
  },
  {
   "cell_type": "code",
   "execution_count": 14,
   "metadata": {
    "pycharm": {
     "name": "#%%\n"
    }
   },
   "outputs": [
    {
     "name": "stdout",
     "output_type": "stream",
     "text": [
      "{378: ((4, 0),), 1057: ((6, 0),), 1088: ((1, 1), (2, 1)), 1380: ((5, 0),), 1452: ((4, 1),), 1722: ((6, 1),), 1731: ((5, 1),), 1750: ((0, 1),), 1866: ((3, 1),), 1873: ((0, 0), (1, 0), (2, 0), (3, 0))}\n"
     ]
    },
    {
     "data": {
      "image/svg+xml": [
       "<svg baseProfile=\"full\" height=\"150px\" version=\"1.1\" viewBox=\"0 0 150 150\" width=\"150px\" xml:space=\"preserve\" xmlns=\"http://www.w3.org/2000/svg\" xmlns:rdkit=\"http://www.rdkit.org/xml\" xmlns:xlink=\"http://www.w3.org/1999/xlink\">\n",
       "<!-- END OF HEADER -->\n",
       "<rect height=\"150\" style=\"opacity:1.0;fill:#FFFFFF;stroke:none\" width=\"150\" x=\"0\" y=\"0\"> </rect>\n",
       "<ellipse cx=\"108.59\" cy=\"125.847\" rx=\"11.9731\" ry=\"11.9731\" style=\"fill:#E5E533;fill-rule:evenodd;stroke:#E5E533;stroke-width:2px;stroke-linecap:butt;stroke-linejoin:miter;stroke-opacity:1\"/>\n",
       "<ellipse cx=\"48.7241\" cy=\"125.847\" rx=\"11.9731\" ry=\"11.9731\" style=\"fill:#9999E5;fill-rule:evenodd;stroke:#9999E5;stroke-width:2px;stroke-linecap:butt;stroke-linejoin:miter;stroke-opacity:1\"/>\n",
       "<ellipse cx=\"18.7913\" cy=\"74.0022\" rx=\"11.9731\" ry=\"11.9731\" style=\"fill:#E5E533;fill-rule:evenodd;stroke:#E5E533;stroke-width:2px;stroke-linecap:butt;stroke-linejoin:miter;stroke-opacity:1\"/>\n",
       "<path class=\"bond-0\" d=\"M 108.59,125.847 L 48.7241,125.847\" style=\"fill:none;fill-rule:evenodd;stroke:#000000;stroke-width:2px;stroke-linecap:butt;stroke-linejoin:miter;stroke-opacity:1\"/>\n",
       "<path class=\"bond-0\" d=\"M 99.6098,113.874 L 57.7039,113.874\" style=\"fill:none;fill-rule:evenodd;stroke:#000000;stroke-width:2px;stroke-linecap:butt;stroke-linejoin:miter;stroke-opacity:1;stroke-dasharray:6,6\"/>\n",
       "<path class=\"bond-3\" d=\"M 113.774,128.841 L 139.048,85.0658\" style=\"fill:none;fill-rule:evenodd;stroke:#E5E5E5;stroke-width:3px;stroke-linecap:butt;stroke-linejoin:miter;stroke-opacity:1\"/>\n",
       "<path class=\"bond-3\" d=\"M 103.405,122.854 L 128.678,79.0793\" style=\"fill:none;fill-rule:evenodd;stroke:#E5E5E5;stroke-width:3px;stroke-linecap:butt;stroke-linejoin:miter;stroke-opacity:1;stroke-dasharray:6,6\"/>\n",
       "<path class=\"bond-1\" d=\"M 48.7241,125.847 L 18.7913,74.0022\" style=\"fill:none;fill-rule:evenodd;stroke:#000000;stroke-width:2px;stroke-linecap:butt;stroke-linejoin:miter;stroke-opacity:1\"/>\n",
       "<path class=\"bond-1\" d=\"M 54.6032,112.084 L 33.6502,75.7924\" style=\"fill:none;fill-rule:evenodd;stroke:#000000;stroke-width:2px;stroke-linecap:butt;stroke-linejoin:miter;stroke-opacity:1;stroke-dasharray:6,6\"/>\n",
       "<path class=\"bond-2\" d=\"M 23.9758,76.9955 L 49.2492,33.2207\" style=\"fill:none;fill-rule:evenodd;stroke:#E5E5E5;stroke-width:3px;stroke-linecap:butt;stroke-linejoin:miter;stroke-opacity:1\"/>\n",
       "<path class=\"bond-2\" d=\"M 13.6068,71.009 L 38.8802,27.2342\" style=\"fill:none;fill-rule:evenodd;stroke:#E5E5E5;stroke-width:3px;stroke-linecap:butt;stroke-linejoin:miter;stroke-opacity:1;stroke-dasharray:6,6\"/>\n",
       "<text dominant-baseline=\"central\" style=\"font-size:19px;font-style:normal;font-weight:normal;fill-opacity:1;stroke:none;font-family:sans-serif;fill:#7F7F7F\" text-anchor=\"start\" x=\"46.0602\" y=\"25.1504\"><tspan>*</tspan></text>\n",
       "<text dominant-baseline=\"central\" style=\"font-size:19px;font-style:normal;font-weight:normal;fill-opacity:1;stroke:none;font-family:sans-serif;fill:#7F7F7F\" text-anchor=\"start\" x=\"135.859\" y=\"76.9955\"><tspan>*</tspan></text>\n",
       "</svg>"
      ],
      "text/plain": [
       "<IPython.core.display.SVG object>"
      ]
     },
     "execution_count": 14,
     "metadata": {},
     "output_type": "execute_result"
    }
   ],
   "source": [
    "from rdkit.Chem import Draw\n",
    "\n",
    "mol = Chem.MolFromSmiles('c1cccnc1C')\n",
    "bi = {}\n",
    "fp = AllChem.GetMorganFingerprintAsBitVect(mol, radius=1, bitInfo=bi)\n",
    "mfp2_svg = Draw.DrawMorganBit(mol, 1088, bi, useSVG=True)\n",
    "print(bi)\n",
    "mfp2_svg\n",
    "\n",
    "\n",
    "# len(fp.GetNonzeroElements())"
   ]
  },
  {
   "cell_type": "markdown",
   "metadata": {},
   "source": [
    "So I think the dict `bi{}` contains a dictionary of non-zero bits.  The key is the bit number, the value is a tuple.\n",
    "The first value in the tuple is what atom the fingerprint is centered upon and the second value is the\n",
    "fingerprint radius.\n",
    "\n",
    "If the key is tuples of tuples, then there are multiple atoms that produce that fragment.  For example, bit 1088 has the tuples `(1,1)` and `(2,1)`.\n",
    "Can we print the smiles from here and would they be the same?\n"
   ]
  },
  {
   "cell_type": "code",
   "execution_count": 15,
   "metadata": {
    "pycharm": {
     "name": "#%%\n"
    }
   },
   "outputs": [
    {
     "name": "stdout",
     "output_type": "stream",
     "text": [
      "Molecule has 7 atoms\n",
      "Atom 0\n",
      "\n",
      "Radius: 0\n",
      "\n",
      "Radius: 1\n",
      "ccc\n",
      "Radius: 2\n",
      "cccc(C)n\n",
      "Radius: 3\n",
      "Cc1ccccn1\n",
      "Atom 1\n",
      "\n",
      "Radius: 0\n",
      "\n",
      "Radius: 1\n",
      "ccc\n",
      "Radius: 2\n",
      "ccccc\n",
      "Radius: 3\n",
      "Cc1ccccn1\n",
      "Atom 2\n",
      "\n",
      "Radius: 0\n",
      "\n",
      "Radius: 1\n",
      "ccc\n",
      "Radius: 2\n",
      "ccccn\n",
      "Radius: 3\n",
      "c1ccncc1\n",
      "Atom 3\n",
      "\n",
      "Radius: 0\n",
      "\n",
      "Radius: 1\n",
      "ccn\n",
      "Radius: 2\n",
      "cccnc\n",
      "Radius: 3\n",
      "Cc1ccccn1\n",
      "Atom 4\n",
      "\n",
      "Radius: 0\n",
      "\n",
      "Radius: 1\n",
      "cnc\n",
      "Radius: 2\n",
      "ccnc(c)C\n",
      "Radius: 3\n",
      "Cc1ccccn1\n",
      "Atom 5\n",
      "\n",
      "Radius: 0\n",
      "\n",
      "Radius: 1\n",
      "cc(C)n\n",
      "Radius: 2\n",
      "ccc(C)nc\n",
      "Radius: 3\n",
      "Cc1ccccn1\n",
      "Atom 6\n",
      "\n",
      "Radius: 0\n",
      "\n",
      "Radius: 1\n",
      "cC\n",
      "Radius: 2\n",
      "cc(C)n\n",
      "Radius: 3\n",
      "ccc(C)nc\n"
     ]
    }
   ],
   "source": [
    "atoms = mol.GetNumAtoms()\n",
    "print(\"Molecule has {} atoms\".format(atoms))\n",
    "for atom in range(atoms):\n",
    "    print(\"Atom {}\\n\".format((atom)))\n",
    "    for r in range(0,4):\n",
    "        print(\"Radius:\",r)\n",
    "        # print()\n",
    "        env = Chem.FindAtomEnvironmentOfRadiusN(mol,r,atom)\n",
    "        amap={}\n",
    "        submol=Chem.PathToSubmol(mol,env,atomMap=amap)\n",
    "        submol.GetNumAtoms()\n",
    "        subsmi = str(Chem.MolToSmiles(submol))\n",
    "        print(subsmi)"
   ]
  },
  {
   "cell_type": "markdown",
   "metadata": {},
   "source": [
    "## Fragment Catalogs\n",
    "\n",
    "Something I found in RDKit getting started.  Docs don't explain it particularly well, so I am going to play around\n",
    "with it.  See \"Molecular Fragments\" in\n",
    "https://www.rdkit.org/docs/GettingStartedInPython.html"
   ]
  },
  {
   "cell_type": "code",
   "execution_count": 16,
   "metadata": {
    "pycharm": {
     "name": "#%%\n"
    }
   },
   "outputs": [
    {
     "data": {
      "text/plain": [
       "39"
      ]
     },
     "execution_count": 16,
     "metadata": {},
     "output_type": "execute_result"
    }
   ],
   "source": [
    "import os\n",
    "from rdkit import RDConfig\n",
    "fName=os.path.join(RDConfig.RDDataDir,'FunctionalGroups.txt')\n",
    "from rdkit.Chem import FragmentCatalog\n",
    "fparams = FragmentCatalog.FragCatParams(1,6,fName)\n",
    "fparams.GetNumFuncGroups()"
   ]
  },
  {
   "cell_type": "code",
   "execution_count": 27,
   "metadata": {
    "pycharm": {
     "name": "#%%\n"
    }
   },
   "outputs": [
    {
     "data": {
      "image/png": "[encoded data removed]",
      "text/plain": [
       "<rdkit.Chem.rdchem.Mol at 0x1babbd8e530>"
      ]
     },
     "execution_count": 27,
     "metadata": {},
     "output_type": "execute_result"
    }
   ],
   "source": [
    "fcat=FragmentCatalog.FragCatalog(fparams)\n",
    "fcgen=FragmentCatalog.FragCatGenerator()\n",
    "m = Chem.MolFromSmiles('c1c(C(=O)OC(O)CN(C)C)ccnc1C')\n",
    "m"
   ]
  },
  {
   "cell_type": "code",
   "execution_count": 28,
   "metadata": {
    "pycharm": {
     "name": "#%%\n"
    }
   },
   "outputs": [
    {
     "name": "stdout",
     "output_type": "stream",
     "text": [
      "100\n",
      "100\n",
      "cc\n",
      "cC<=O>\n",
      "C<=O>O\n",
      "C<-O>O\n",
      "C<-O>C\n",
      "CN\n",
      "cn\n",
      "cC\n",
      "ccc\n",
      "ccC<=O>\n",
      "cC<=O>O\n",
      "C<=O>OC<-O>\n",
      "CC<-O>O\n",
      "C<-O>CN\n",
      "CNC\n",
      "ccn\n",
      "cnc\n",
      "Ccn\n",
      "ccC\n",
      "cccc\n",
      "cc(c)C<=O>\n",
      "ccC<=O>O\n",
      "cccC<=O>\n",
      "cccC\n",
      "cccn\n",
      "cC<=O>OC<-O>\n",
      "CC<-O>OC<=O>\n",
      "NCC<-O>O\n",
      "C<-O>CNC\n",
      "CN(C)C\n",
      "ccnc\n",
      "cncC\n",
      "cc(C)n\n",
      "ccccn\n",
      "ccc(c)C<=O>\n",
      "ccccc\n",
      "cc(c)C<=O>O\n",
      "ccccC\n",
      "ccC<=O>OC<-O>\n",
      "cccC<=O>O\n",
      "C<=O>cccC\n",
      "C<=O>cccn\n",
      "ccc(C)n\n",
      "cccnc\n",
      "cC<=O>OC<-O>C\n",
      "C<=O>OC<-O>CN\n",
      "CNCC<-O>O\n",
      "C<-O>CN(C)C\n",
      "ccncc\n",
      "ccncC\n",
      "cnc(c)C\n",
      "ccccnc\n",
      "cc(C<=O>)ccn\n",
      "cccccn\n",
      "ccc(c)C<=O>O\n",
      "ccc(C<=O>)cc\n",
      "cccccC\n",
      "cc(c)C<=O>OC<-O>\n",
      "cc(C<=O>)ccC\n",
      "cccc(C)n\n",
      "ccC<=O>OC<-O>C\n",
      "cccC<=O>OC<-O>\n",
      "CcccC<=O>O\n",
      "ncccC<=O>O\n",
      "C<=O>ccc(C)n\n",
      "cncccC<=O>\n",
      "ccc(C)nc\n",
      "cccncc\n",
      "cC<=O>OC<-O>CN\n",
      "CNCC<-O>OC<=O>\n",
      "CN(C)CC<-O>O\n",
      "cccncC\n",
      "ccnc(c)C\n",
      "c1ccncc1\n",
      "ccccncC\n",
      "cnccc(c)C<=O>\n",
      "cc(ccn)C<=O>O\n",
      "ccc(C<=O>)ccn\n",
      "Ccccccn\n",
      "ccc(c)C<=O>OC<-O>\n",
      "ccc(cc)C<=O>O\n",
      "ccc(C<=O>)ccC\n",
      "ccccc(C)n\n",
      "cc(c)C<=O>OC<-O>C\n",
      "cc(ccC)C<=O>O\n",
      "cc(C<=O>)cc(C)n\n",
      "cccc(C)nc\n",
      "ccC<=O>OC<-O>CN\n",
      "cccC<=O>OC<-O>C\n",
      "CcccC<=O>OC<-O>\n",
      "C<-O>OC<=O>cccn\n",
      "Cc(n)ccC<=O>O\n",
      "cncccC<=O>O\n",
      "cnc(C)ccC<=O>\n",
      "ccncccC<=O>\n",
      "ccnc(C)cc\n",
      "cC<=O>OC<-O>CNC\n",
      "C<=O>cccncC\n",
      "C<=O>OC<-O>CN(C)C\n",
      "cccnc(c)C\n"
     ]
    }
   ],
   "source": [
    "fcount = fcgen.AddFragsFromMol(m,fcat)\n",
    "print(fcount)\n",
    "fcgen.AddFragsFromMol(m,fcat)\n",
    "print(fcat.GetNumEntries())\n",
    "for frag in range(fcount):\n",
    "    print(fcat.GetEntryDescription(frag))\n",
    "# fcat.GetEntryDescription(1)\n",
    "#\n",
    "# fcat.GetEntryDescription(2)\n",
    "# fcat.GetEntryDescription(3)\n",
    "\n",
    "\n",
    "# help(Chem.FragmentOnBonds)"
   ]
  },
  {
   "cell_type": "code",
   "execution_count": 29,
   "metadata": {
    "pycharm": {
     "name": "#%%\n"
    }
   },
   "outputs": [
    {
     "data": {
      "image/png": "[encoded data removed]",
      "text/plain": [
       "<rdkit.Chem.rdchem.Mol at 0x1babbd827f0>"
      ]
     },
     "execution_count": 29,
     "metadata": {},
     "output_type": "execute_result"
    }
   ],
   "source": [
    "from rdkit.Chem.Draw import IPythonConsole, MolsToGridImage\n",
    "mol = Chem.MolFromSmiles('c1c(C(=O)OCCN(C)C)ccnc1C')\n",
    "mol1 = Chem.Mol(mol)\n",
    "mol1"
   ]
  },
  {
   "cell_type": "code",
   "execution_count": 32,
   "metadata": {
    "pycharm": {
     "name": "#%%\n"
    }
   },
   "outputs": [
    {
     "data": {
      "image/png": "[encoded data removed]",
      "text/plain": [
       "<rdkit.Chem.rdchem.Mol at 0x1babbdcf3f0>"
      ]
     },
     "execution_count": 32,
     "metadata": {},
     "output_type": "execute_result"
    }
   ],
   "source": [
    "mol1_f = Chem.FragmentOnBonds(mol1, (0,2))\n",
    "mol1_f"
   ]
  },
  {
   "cell_type": "code",
   "execution_count": 31,
   "metadata": {
    "pycharm": {
     "name": "#%%\n"
    }
   },
   "outputs": [
    {
     "ename": "AtomKekulizeException",
     "evalue": "non-ring atom 0 marked aromatic",
     "output_type": "error",
     "traceback": [
      "\u001B[1;31m---------------------------------------------------------------------------\u001B[0m",
      "\u001B[1;31mAtomKekulizeException\u001B[0m                     Traceback (most recent call last)",
      "\u001B[1;32m<ipython-input-31-94a0c0b976a3>\u001B[0m in \u001B[0;36m<module>\u001B[1;34m\u001B[0m\n\u001B[1;32m----> 1\u001B[1;33m \u001B[0mMolsToGridImage\u001B[0m\u001B[1;33m(\u001B[0m\u001B[0mChem\u001B[0m\u001B[1;33m.\u001B[0m\u001B[0mGetMolFrags\u001B[0m\u001B[1;33m(\u001B[0m\u001B[0mmol1_f\u001B[0m\u001B[1;33m,\u001B[0m \u001B[0masMols\u001B[0m\u001B[1;33m=\u001B[0m\u001B[1;32mTrue\u001B[0m\u001B[1;33m)\u001B[0m\u001B[1;33m)\u001B[0m\u001B[1;33m\u001B[0m\u001B[1;33m\u001B[0m\u001B[0m\n\u001B[0m",
      "\u001B[1;31mAtomKekulizeException\u001B[0m: non-ring atom 0 marked aromatic"
     ]
    }
   ],
   "source": [
    "MolsToGridImage(Chem.GetMolFrags(mol1_f, asMols=True))\n"
   ]
  }
 ],
 "metadata": {
  "kernelspec": {
   "display_name": "Python (mlapp)",
   "language": "python",
   "name": "mlapp"
  },
  "language_info": {
   "codemirror_mode": {
    "name": "ipython",
    "version": 3
   },
   "file_extension": ".py",
   "mimetype": "text/x-python",
   "name": "python",
   "nbconvert_exporter": "python",
   "pygments_lexer": "ipython3",
   "version": "3.7.7"
  }
 },
 "nbformat": 4,
 "nbformat_minor": 1
}