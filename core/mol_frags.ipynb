{
 "cells": [
  {
   "cell_type": "markdown",
   "metadata": {
    "collapsed": true,
    "pycharm": {
     "name": "#%% md\n"
    }
   },
   "source": [
    "# Creating and Visualizing Molecular Fragments with RDKit.\n",
    "\n",
    "The goal of this notebook is to explore how to get molecular fragments from circular fingerprints calculated by RDKit.\n",
    "Additionally, we would like to visualize these fragments.  Ultimately, they will be used in a knowledge graph to help\n",
    "describe molecules."
   ]
  },
  {
   "cell_type": "markdown",
   "source": [
    "### Imports\n",
    "\n"
   ],
   "metadata": {
    "collapsed": false,
    "pycharm": {
     "name": "#%% md\n"
    }
   }
  },
  {
   "cell_type": "code",
   "execution_count": 47,
   "outputs": [],
   "source": [
    "from rdkit import Chem\n",
    "from rdkit.Chem import Draw\n",
    "from rdkit.Chem import AllChem"
   ],
   "metadata": {
    "collapsed": false,
    "pycharm": {
     "name": "#%%\n"
    }
   }
  },
  {
   "cell_type": "code",
   "execution_count": 52,
   "outputs": [
    {
     "data": {
      "text/plain": "<rdkit.Chem.rdchem.Mol at 0x19481150df0>",
      "image/png": "[encoded data removed]"
     },
     "execution_count": 52,
     "metadata": {},
     "output_type": "execute_result"
    }
   ],
   "source": [
    "m = Chem.MolFromSmiles('c1cccnc1C')\n",
    "info={}  # place to store info about the fingerprint.\n",
    "fp = AllChem.GetMorganFingerprint(m,3,bitInfo=info)\n",
    "m"
   ],
   "metadata": {
    "collapsed": false,
    "pycharm": {
     "name": "#%%\n"
    }
   }
  },
  {
   "cell_type": "code",
   "execution_count": 49,
   "outputs": [
    {
     "name": "stdout",
     "output_type": "stream",
     "text": [
      "ccc(C)nc\n"
     ]
    }
   ],
   "source": [
    "env = Chem.FindAtomEnvironmentOfRadiusN(m,2,5)\n",
    "amap={}\n",
    "submol=Chem.PathToSubmol(m,env,atomMap=amap)\n",
    "submol.GetNumAtoms()\n",
    "subsmi = str(Chem.MolToSmiles(submol))\n",
    "print(subsmi)\n",
    "sub = Chem.MolFromSmiles(subsmi)  # doesnt work because the sub molecule\n",
    "sub"
   ],
   "metadata": {
    "collapsed": false,
    "pycharm": {
     "name": "#%%\n"
    }
   }
  },
  {
   "cell_type": "markdown",
   "source": [
    "The below method does the same thing, but the documentation says it is more effecient, especially for large sets of molecules."
   ],
   "metadata": {
    "collapsed": false,
    "pycharm": {
     "name": "#%% md\n"
    }
   }
  },
  {
   "cell_type": "code",
   "execution_count": 64,
   "outputs": [
    {
     "data": {
      "text/plain": "'c(C)(cc)nc'"
     },
     "execution_count": 64,
     "metadata": {},
     "output_type": "execute_result"
    }
   ],
   "source": [
    "atoms=set()\n",
    "for bidx in env:\n",
    "    atoms.add(m.GetBondWithIdx(bidx).GetBeginAtomIdx())\n",
    "    atoms.add(m.GetBondWithIdx(bidx).GetEndAtomIdx())\n",
    "\n",
    "Chem.MolFragmentToSmiles(m,atomsToUse=list(atoms),bondsToUse=env,rootedAtAtom=5)"
   ],
   "metadata": {
    "collapsed": false,
    "pycharm": {
     "name": "#%%\n"
    }
   }
  },
  {
   "cell_type": "markdown",
   "source": [
    "## Visualizing Fragments\n",
    "The above code to show the submolecule doesn't work because the sub-molecule smiles is invalid for a full molecule.\n",
    "It has arromatic carbons listed in it, but no closed ring.  So we can get SMILES that way, but need another approach\n",
    "to getting visuals.\n"
   ],
   "metadata": {
    "collapsed": false,
    "pycharm": {
     "name": "#%% md\n"
    }
   }
  },
  {
   "cell_type": "code",
   "execution_count": 75,
   "outputs": [
    {
     "name": "stdout",
     "output_type": "stream",
     "text": [
      "{378: ((4, 0),), 1057: ((6, 0),), 1088: ((1, 1), (2, 1)), 1380: ((5, 0),), 1452: ((4, 1),), 1722: ((6, 1),), 1731: ((5, 1),), 1750: ((0, 1),), 1866: ((3, 1),), 1873: ((0, 0), (1, 0), (2, 0), (3, 0))}\n"
     ]
    },
    {
     "data": {
      "text/plain": "<IPython.core.display.SVG object>",
      "image/svg+xml": "<svg baseProfile=\"full\" height=\"150px\" version=\"1.1\" viewBox=\"0 0 150 150\" width=\"150px\" xml:space=\"preserve\" xmlns=\"http://www.w3.org/2000/svg\" xmlns:rdkit=\"http://www.rdkit.org/xml\" xmlns:xlink=\"http://www.w3.org/1999/xlink\">\n<!-- END OF HEADER -->\n<rect height=\"150\" style=\"opacity:1.0;fill:#FFFFFF;stroke:none\" width=\"150\" x=\"0\" y=\"0\"> </rect>\n<ellipse cx=\"108.59\" cy=\"125.847\" rx=\"11.9731\" ry=\"11.9731\" style=\"fill:#E5E533;fill-rule:evenodd;stroke:#E5E533;stroke-width:2px;stroke-linecap:butt;stroke-linejoin:miter;stroke-opacity:1\"/>\n<ellipse cx=\"48.7241\" cy=\"125.847\" rx=\"11.9731\" ry=\"11.9731\" style=\"fill:#9999E5;fill-rule:evenodd;stroke:#9999E5;stroke-width:2px;stroke-linecap:butt;stroke-linejoin:miter;stroke-opacity:1\"/>\n<ellipse cx=\"18.7913\" cy=\"74.0022\" rx=\"11.9731\" ry=\"11.9731\" style=\"fill:#E5E533;fill-rule:evenodd;stroke:#E5E533;stroke-width:2px;stroke-linecap:butt;stroke-linejoin:miter;stroke-opacity:1\"/>\n<path class=\"bond-0\" d=\"M 108.59,125.847 L 48.7241,125.847\" style=\"fill:none;fill-rule:evenodd;stroke:#000000;stroke-width:2px;stroke-linecap:butt;stroke-linejoin:miter;stroke-opacity:1\"/>\n<path class=\"bond-0\" d=\"M 99.6098,113.874 L 57.7039,113.874\" style=\"fill:none;fill-rule:evenodd;stroke:#000000;stroke-width:2px;stroke-linecap:butt;stroke-linejoin:miter;stroke-opacity:1;stroke-dasharray:6,6\"/>\n<path class=\"bond-3\" d=\"M 113.774,128.841 L 139.048,85.0658\" style=\"fill:none;fill-rule:evenodd;stroke:#E5E5E5;stroke-width:3px;stroke-linecap:butt;stroke-linejoin:miter;stroke-opacity:1\"/>\n<path class=\"bond-3\" d=\"M 103.405,122.854 L 128.678,79.0793\" style=\"fill:none;fill-rule:evenodd;stroke:#E5E5E5;stroke-width:3px;stroke-linecap:butt;stroke-linejoin:miter;stroke-opacity:1;stroke-dasharray:6,6\"/>\n<path class=\"bond-1\" d=\"M 48.7241,125.847 L 18.7913,74.0022\" style=\"fill:none;fill-rule:evenodd;stroke:#000000;stroke-width:2px;stroke-linecap:butt;stroke-linejoin:miter;stroke-opacity:1\"/>\n<path class=\"bond-1\" d=\"M 54.6032,112.084 L 33.6502,75.7924\" style=\"fill:none;fill-rule:evenodd;stroke:#000000;stroke-width:2px;stroke-linecap:butt;stroke-linejoin:miter;stroke-opacity:1;stroke-dasharray:6,6\"/>\n<path class=\"bond-2\" d=\"M 23.9758,76.9955 L 49.2492,33.2207\" style=\"fill:none;fill-rule:evenodd;stroke:#E5E5E5;stroke-width:3px;stroke-linecap:butt;stroke-linejoin:miter;stroke-opacity:1\"/>\n<path class=\"bond-2\" d=\"M 13.6068,71.009 L 38.8802,27.2342\" style=\"fill:none;fill-rule:evenodd;stroke:#E5E5E5;stroke-width:3px;stroke-linecap:butt;stroke-linejoin:miter;stroke-opacity:1;stroke-dasharray:6,6\"/>\n<text dominant-baseline=\"central\" style=\"font-size:19px;font-style:normal;font-weight:normal;fill-opacity:1;stroke:none;font-family:sans-serif;fill:#7F7F7F\" text-anchor=\"start\" x=\"46.0602\" y=\"25.1504\"><tspan>*</tspan></text>\n<text dominant-baseline=\"central\" style=\"font-size:19px;font-style:normal;font-weight:normal;fill-opacity:1;stroke:none;font-family:sans-serif;fill:#7F7F7F\" text-anchor=\"start\" x=\"135.859\" y=\"76.9955\"><tspan>*</tspan></text>\n</svg>"
     },
     "execution_count": 75,
     "metadata": {},
     "output_type": "execute_result"
    }
   ],
   "source": [
    "from rdkit.Chem import Draw\n",
    "\n",
    "mol = Chem.MolFromSmiles('c1cccnc1C')\n",
    "bi = {}\n",
    "fp = AllChem.GetMorganFingerprintAsBitVect(mol, radius=1, bitInfo=bi)\n",
    "mfp2_svg = Draw.DrawMorganBit(mol, 1088, bi, useSVG=True)\n",
    "print(bi)\n",
    "mfp2_svg\n",
    "\n",
    "\n",
    "# len(fp.GetNonzeroElements())"
   ],
   "metadata": {
    "collapsed": false,
    "pycharm": {
     "name": "#%%\n"
    }
   }
  },
  {
   "cell_type": "markdown",
   "source": [
    "So I think the dict `bi{}` contains a dictionary of non-zero bits.  The key is the bit number, the value is a tuple.\n",
    "The first value in the tuple is what atom the fingerprint is centered upon and the second value is the\n",
    "fingerprint radius.\n",
    "\n",
    "If the key is tuples of tuples, then there are multiple atoms that produce that fragment.  For example, bit 1088 has the tuples `(1,1)` and `(2,1)`.\n",
    "Can we print the smiles from here and would they be the same?\n"
   ],
   "metadata": {
    "collapsed": false
   }
  },
  {
   "cell_type": "code",
   "execution_count": 72,
   "outputs": [
    {
     "name": "stdout",
     "output_type": "stream",
     "text": [
      "Molecule has 7 atoms\n",
      "Atom 0\n",
      "\n",
      "Radius: 0\n",
      "\n",
      "Radius: 1\n",
      "ccc\n",
      "Radius: 2\n",
      "cccc(C)n\n",
      "Radius: 3\n",
      "Cc1ccccn1\n",
      "Atom 1\n",
      "\n",
      "Radius: 0\n",
      "\n",
      "Radius: 1\n",
      "ccc\n",
      "Radius: 2\n",
      "ccccc\n",
      "Radius: 3\n",
      "Cc1ccccn1\n",
      "Atom 2\n",
      "\n",
      "Radius: 0\n",
      "\n",
      "Radius: 1\n",
      "ccc\n",
      "Radius: 2\n",
      "ccccn\n",
      "Radius: 3\n",
      "c1ccncc1\n",
      "Atom 3\n",
      "\n",
      "Radius: 0\n",
      "\n",
      "Radius: 1\n",
      "ccn\n",
      "Radius: 2\n",
      "cccnc\n",
      "Radius: 3\n",
      "Cc1ccccn1\n",
      "Atom 4\n",
      "\n",
      "Radius: 0\n",
      "\n",
      "Radius: 1\n",
      "cnc\n",
      "Radius: 2\n",
      "ccnc(c)C\n",
      "Radius: 3\n",
      "Cc1ccccn1\n",
      "Atom 5\n",
      "\n",
      "Radius: 0\n",
      "\n",
      "Radius: 1\n",
      "cc(C)n\n",
      "Radius: 2\n",
      "ccc(C)nc\n",
      "Radius: 3\n",
      "Cc1ccccn1\n",
      "Atom 6\n",
      "\n",
      "Radius: 0\n",
      "\n",
      "Radius: 1\n",
      "cC\n",
      "Radius: 2\n",
      "cc(C)n\n",
      "Radius: 3\n",
      "ccc(C)nc\n"
     ]
    }
   ],
   "source": [
    "atoms = mol.GetNumAtoms()\n",
    "print(\"Molecule has {} atoms\".format(atoms))\n",
    "for atom in range(atoms):\n",
    "    print(\"Atom {}\\n\".format((atom)))\n",
    "    for r in range(0,4):\n",
    "        print(\"Radius:\",r)\n",
    "        # print()\n",
    "        env = Chem.FindAtomEnvironmentOfRadiusN(mol,r,atom)\n",
    "        amap={}\n",
    "        submol=Chem.PathToSubmol(mol,env,atomMap=amap)\n",
    "        submol.GetNumAtoms()\n",
    "        subsmi = str(Chem.MolToSmiles(submol))\n",
    "        print(subsmi)"
   ],
   "metadata": {
    "collapsed": false,
    "pycharm": {
     "name": "#%%\n"
    }
   }
  },
  {
   "cell_type": "markdown",
   "source": [
    "## Fragment Catalogs\n",
    "\n",
    "Something I found in RDKit getting started.  Docs don't explain it particularly well, so I am going to play around\n",
    "with it.  See \"Molecular Fragments\" in\n",
    "https://www.rdkit.org/docs/GettingStartedInPython.html"
   ],
   "metadata": {
    "collapsed": false
   }
  },
  {
   "cell_type": "code",
   "execution_count": 114,
   "outputs": [
    {
     "data": {
      "text/plain": "39"
     },
     "execution_count": 114,
     "metadata": {},
     "output_type": "execute_result"
    }
   ],
   "source": [
    "import os\n",
    "from rdkit import RDConfig\n",
    "fName=os.path.join(RDConfig.RDDataDir,'FunctionalGroups.txt')\n",
    "from rdkit.Chem import FragmentCatalog\n",
    "fparams = FragmentCatalog.FragCatParams(1,6,fName)\n",
    "fparams.GetNumFuncGroups()"
   ],
   "metadata": {
    "collapsed": false,
    "pycharm": {
     "name": "#%%\n"
    }
   }
  },
  {
   "cell_type": "code",
   "execution_count": 118,
   "outputs": [
    {
     "data": {
      "text/plain": "<rdkit.Chem.rdchem.Mol at 0x19481ce1df0>",
      "image/png": "[encoded data removed]"
     },
     "execution_count": 118,
     "metadata": {},
     "output_type": "execute_result"
    }
   ],
   "source": [
    "fcat=FragmentCatalog.FragCatalog(fparams)\n",
    "fcgen=FragmentCatalog.FragCatGenerator()\n",
    "m = Chem.MolFromSmiles('c1c(C(=O)OCCN(C)C)ccnc1C')\n",
    "m"
   ],
   "metadata": {
    "collapsed": false,
    "pycharm": {
     "name": "#%%\n"
    }
   }
  },
  {
   "cell_type": "code",
   "execution_count": 139,
   "outputs": [
    {
     "name": "stdout",
     "output_type": "stream",
     "text": [
      "0\n",
      "100\n",
      "Help on built-in function FragmentOnBonds in module rdkit.Chem.rdmolops:\n",
      "\n",
      "FragmentOnBonds(...)\n",
      "    FragmentOnBonds( (Mol)mol, (AtomPairsParameters)bondIndices [, (bool)addDummies=True [, (AtomPairsParameters)dummyLabels=None [, (AtomPairsParameters)bondTypes=None [, (list)cutsPerAtom=[]]]]]) -> Mol :\n",
      "        Return a new molecule with all specified bonds broken\n",
      "        \n",
      "          ARGUMENTS:\n",
      "        \n",
      "              - mol            - the molecule to be modified\n",
      "              - bondIndices    - indices of the bonds to be broken\n",
      "              - addDummies  - toggles addition of dummy atoms to indicate where \n",
      "                bonds were broken\n",
      "              - dummyLabels - used to provide the labels to be used for the dummies.\n",
      "                the first element in each pair is the label for the dummy\n",
      "                that replaces the bond's beginAtom, the second is for the \n",
      "                dummy that replaces the bond's endAtom. If not provided, the\n",
      "                dummies are labeled with atom indices.\n",
      "              - bondTypes - used to provide the bond type to use between the\n",
      "                fragments and the dummy atoms. If not provided, defaults to single. \n",
      "              - cutsPerAtom - used to return the number of cuts made at each atom. \n",
      "        \n",
      "          RETURNS:\n",
      "              a new Mol with the modifications\n",
      "        \n",
      "    \n",
      "        C++ signature :\n",
      "            class RDKit::ROMol * __ptr64 FragmentOnBonds(class RDKit::ROMol,class boost::python::api::object [,bool=True [,class boost::python::api::object=None [,class boost::python::api::object=None [,class boost::python::list=[]]]]])\n",
      "\n"
     ]
    }
   ],
   "source": [
    "fcount = fcgen.AddFragsFromMol(m,fcat)\n",
    "print(fcount)\n",
    "fcgen.AddFragsFromMol(m,fcat)\n",
    "print(fcat.GetNumEntries())\n",
    "# for frag in range(fcount):\n",
    "    print(fcat.GetEntryDescription(frag))\n",
    "# fcat.GetEntryDescription(1)\n",
    "#\n",
    "# fcat.GetEntryDescription(2)\n",
    "# fcat.GetEntryDescription(3)\n",
    "\n",
    "\n",
    "# help(Chem.FragmentOnBonds)"
   ],
   "metadata": {
    "collapsed": false,
    "pycharm": {
     "name": "#%%\n"
    }
   }
  },
  {
   "cell_type": "code",
   "execution_count": 140,
   "outputs": [
    {
     "data": {
      "text/plain": "<rdkit.Chem.rdchem.Mol at 0x19481cb1930>",
      "image/png": "[encoded data removed]"
     },
     "execution_count": 140,
     "metadata": {},
     "output_type": "execute_result"
    }
   ],
   "source": [
    "from rdkit.Chem.Draw import IPythonConsole, MolsToGridImage\n",
    "mol = Chem.MolFromSmiles('c1c(C(=O)OCCN(C)C)ccnc1C')\n",
    "mol1 = Chem.Mol(mol)\n",
    "mol1"
   ],
   "metadata": {
    "collapsed": false,
    "pycharm": {
     "name": "#%%\n"
    }
   }
  },
  {
   "cell_type": "code",
   "execution_count": 142,
   "outputs": [
    {
     "data": {
      "text/plain": "<rdkit.Chem.rdchem.Mol at 0x19481e0d530>",
      "image/png": "[encoded data removed]"
     },
     "execution_count": 142,
     "metadata": {},
     "output_type": "execute_result"
    }
   ],
   "source": [
    "mol1_f = Chem.FragmentOnBonds(mol1, (0,2))\n",
    "mol1_f"
   ],
   "metadata": {
    "collapsed": false,
    "pycharm": {
     "name": "#%%\n"
    }
   }
  },
  {
   "cell_type": "code",
   "execution_count": 137,
   "outputs": [
    {
     "data": {
      "text/plain": "<PIL.PngImagePlugin.PngImageFile image mode=RGB size=600x200 at 0x19481E4BF08>",
      "image/png": "[encoded data removed]"
     },
     "execution_count": 137,
     "metadata": {},
     "output_type": "execute_result"
    }
   ],
   "source": [
    "MolsToGridImage(Chem.GetMolFrags(mol1_f, asMols=True))\n"
   ],
   "metadata": {
    "collapsed": false,
    "pycharm": {
     "name": "#%%\n"
    }
   }
  }
 ],
 "metadata": {
  "kernelspec": {
   "name": "mlapp",
   "language": "python",
   "display_name": "Python (mlapp)"
  },
  "language_info": {
   "codemirror_mode": {
    "name": "ipython",
    "version": 2
   },
   "file_extension": ".py",
   "mimetype": "text/x-python",
   "name": "python",
   "nbconvert_exporter": "python",
   "pygments_lexer": "ipython2",
   "version": "2.7.6"
  }
 },
 "nbformat": 4,
 "nbformat_minor": 0
}