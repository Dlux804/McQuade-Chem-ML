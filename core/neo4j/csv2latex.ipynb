{
 "cells": [
  {
   "cell_type": "code",
   "execution_count": 4,
   "metadata": {
    "collapsed": true
   },
   "outputs": [
    {
     "name": "stdout",
     "output_type": "stream",
     "text": [
      "\\begin{tabular}{lrr}\n",
      "\\toprule\n",
      "     node\\_type &  number &  MAX(props) \\\\\n",
      "\\midrule\n",
      "      Fragment &   56083 &           1 \\\\\n",
      "      Molecule &   25940 &           6 \\\\\n",
      "       MLModel &     215 &           9 \\\\\n",
      "       TestSet &     215 &           3 \\\\\n",
      "      TrainSet &     215 &           3 \\\\\n",
      "       Feature &     110 &           1 \\\\\n",
      "      Splitter &     110 &           6 \\\\\n",
      "   RandomSplit &     105 &           6 \\\\\n",
      "        ValSet &      35 &           3 \\\\\n",
      "   FeatureList &       7 &           3 \\\\\n",
      "       DataSet &       6 &           6 \\\\\n",
      " FeatureMethod &       6 &           1 \\\\\n",
      "     Algorithm &       4 &           2 \\\\\n",
      "        Tuning &       2 &           1 \\\\\n",
      "\\bottomrule\n",
      "\\end{tabular}\n",
      "\n"
     ]
    }
   ],
   "source": [
    "import pandas as pd\n",
    "\n",
    "\n",
    "def csv_to_latex(filename):\n",
    "    df = pd.read_csv(filename)\n",
    "    print(df.to_latex(index=False))\n",
    "\n",
    "csv_to_latex('node_count.csv')"
   ]
  },
  {
   "cell_type": "code",
   "execution_count": 6,
   "outputs": [
    {
     "name": "stdout",
     "output_type": "stream",
     "text": [
      "\\begin{tabular}{lrr}\n",
      "\\toprule\n",
      "                       label &   number &  MAX(props) \\\\\n",
      "\\midrule\n",
      "              HAS\\_DESCRIPTOR &  1888897 &           1 \\\\\n",
      "                HAS\\_FRAGMENT &  1374420 &           0 \\\\\n",
      "   CONTAINS\\_TRAINED\\_MOLECULE &   521981 &           1 \\\\\n",
      " CONTAINS\\_PREDICTED\\_MOLECULE &   162053 &           7 \\\\\n",
      "           CONTAINS\\_MOLECULE &    29802 &           0 \\\\\n",
      " CONTAINS\\_VALIDATED\\_MOLECULE &    15170 &           1 \\\\\n",
      "                 MAKES\\_SPLIT &      465 &           0 \\\\\n",
      "         USES\\_FEATURE\\_METHOD &      236 &           0 \\\\\n",
      "                      TRAINS &      215 &           1 \\\\\n",
      "                    PREDICTS &      215 &          13 \\\\\n",
      "           USES\\_FEATURE\\_LIST &      215 &           0 \\\\\n",
      "              USES\\_ALGORITHM &      215 &           6 \\\\\n",
      "                USES\\_DATASET &      215 &           0 \\\\\n",
      "                  USES\\_SPLIT &      215 &           0 \\\\\n",
      "              SPLITS\\_DATASET &      215 &           0 \\\\\n",
      "            SPLITS\\_INTO\\_TEST &      215 &           0 \\\\\n",
      "           SPLITS\\_INTO\\_TRAIN &      215 &           0 \\\\\n",
      "                  CALCULATES &      110 &           0 \\\\\n",
      "                 USES\\_TUNING &       52 &          24 \\\\\n",
      "             SPLITS\\_INTO\\_VAL &       35 &           0 \\\\\n",
      "                   VALIDATES &       35 &           1 \\\\\n",
      "        USED\\_BY\\_FEATURE\\_LIST &        8 &           0 \\\\\n",
      "\\bottomrule\n",
      "\\end{tabular}\n",
      "\n"
     ]
    }
   ],
   "source": [
    "csv_to_latex('rel_count.csv')"
   ],
   "metadata": {
    "collapsed": false,
    "pycharm": {
     "name": "#%%\n"
    }
   }
  }
 ],
 "metadata": {
  "kernelspec": {
   "display_name": "Python 3",
   "language": "python",
   "name": "python3"
  },
  "language_info": {
   "codemirror_mode": {
    "name": "ipython",
    "version": 2
   },
   "file_extension": ".py",
   "mimetype": "text/x-python",
   "name": "python",
   "nbconvert_exporter": "python",
   "pygments_lexer": "ipython2",
   "version": "2.7.6"
  }
 },
 "nbformat": 4,
 "nbformat_minor": 0
}