{
 "cells": [
  {
   "cell_type": "code",
   "execution_count": 91,
   "metadata": {
    "collapsed": true
   },
   "outputs": [],
   "source": [
    "import pandas as pd\n",
    "import numpy as np"
   ]
  },
  {
   "cell_type": "markdown",
   "source": [
    "##  Graph Projections\n",
    "I used the native projections for creating the sub-graph used in this analysis.\n",
    "\n",
    "```\n",
    "CALL gds.graph.create('mols_native',  // graph name\n",
    "['Molecule', 'Fragment'], // Node Labels\n",
    "'HAS_FRAGMENT',  // Relationship Labels\n",
    "{relationshipProperties:{weight:{property: 'difficulty', defaultValue: 0}}} // Relationship properties\n",
    ")\n",
    "Yield graphName, nodeCount, relationshipCount;\n",
    "```\n",
    "This graph projection contains just molecules and molecular fragments and the relationship between them.\n",
    "The Neo4j property `difficulty` is mapped to the projection under the name `weight`."
   ],
   "metadata": {
    "collapsed": false,
    "pycharm": {
     "name": "#%% md\n"
    }
   }
  },
  {
   "cell_type": "markdown",
   "source": [
    "## Unweighted PageRank Algorithm\n",
    "\n",
    "```\n",
    "CALL gds.pageRank.stream('mols_native',{\n",
    "\tmaxIterations: 20\n",
    "    })\n",
    "YIELD nodeId, score\n",
    "RETURN gds.util.asNode(nodeId).name AS name, score\n",
    "ORDER BY score DESC\n",
    "```"
   ],
   "metadata": {
    "collapsed": false,
    "pycharm": {
     "name": "#%% md\n"
    }
   }
  },
  {
   "cell_type": "markdown",
   "source": [
    "## Weighted PageRank Algorithm\n",
    "```cypher\n",
    "CALL gds.pageRank.stream('mols_native',{\n",
    "\tmaxIterations: 20,\n",
    "    relationshipWeightProperty: 'weight'\n",
    "    })\n",
    "YIELD nodeId, score\n",
    "RETURN gds.util.asNode(nodeId).name AS name, score\n",
    "ORDER BY score DESC\n",
    "```"
   ],
   "metadata": {
    "collapsed": false,
    "pycharm": {
     "name": "#%% md\n"
    }
   }
  },
  {
   "cell_type": "code",
   "execution_count": 92,
   "outputs": [],
   "source": [
    "path = '/home/adam/research/neo4j/gds_results/pageRank/'\n",
    "df_w = pd.read_csv(path + 'mol_frags_weight.csv')\n",
    "df_n = pd.read_csv(path + 'mol_frags_noweight.csv')"
   ],
   "metadata": {
    "collapsed": false,
    "pycharm": {
     "name": "#%%\n"
    }
   }
  },
  {
   "cell_type": "code",
   "execution_count": 93,
   "outputs": [
    {
     "data": {
      "text/plain": "    name      score  rank\n0     cc  39.579261     1\n1    ccc  34.946431     2\n2   cccc  31.597883     3\n3     CC  29.493660     4\n4  ccccc  28.826794     5\n5    CCC  20.091932     6\n6     CN  15.397810     7\n7    ccC  14.732795     8\n8   cccC  13.315302     9\n9   CCCC  12.873738    10",
      "text/html": "<div>\n<style scoped>\n    .dataframe tbody tr th:only-of-type {\n        vertical-align: middle;\n    }\n\n    .dataframe tbody tr th {\n        vertical-align: top;\n    }\n\n    .dataframe thead th {\n        text-align: right;\n    }\n</style>\n<table border=\"1\" class=\"dataframe\">\n  <thead>\n    <tr style=\"text-align: right;\">\n      <th></th>\n      <th>name</th>\n      <th>score</th>\n      <th>rank</th>\n    </tr>\n  </thead>\n  <tbody>\n    <tr>\n      <th>0</th>\n      <td>cc</td>\n      <td>39.579261</td>\n      <td>1</td>\n    </tr>\n    <tr>\n      <th>1</th>\n      <td>ccc</td>\n      <td>34.946431</td>\n      <td>2</td>\n    </tr>\n    <tr>\n      <th>2</th>\n      <td>cccc</td>\n      <td>31.597883</td>\n      <td>3</td>\n    </tr>\n    <tr>\n      <th>3</th>\n      <td>CC</td>\n      <td>29.493660</td>\n      <td>4</td>\n    </tr>\n    <tr>\n      <th>4</th>\n      <td>ccccc</td>\n      <td>28.826794</td>\n      <td>5</td>\n    </tr>\n    <tr>\n      <th>5</th>\n      <td>CCC</td>\n      <td>20.091932</td>\n      <td>6</td>\n    </tr>\n    <tr>\n      <th>6</th>\n      <td>CN</td>\n      <td>15.397810</td>\n      <td>7</td>\n    </tr>\n    <tr>\n      <th>7</th>\n      <td>ccC</td>\n      <td>14.732795</td>\n      <td>8</td>\n    </tr>\n    <tr>\n      <th>8</th>\n      <td>cccC</td>\n      <td>13.315302</td>\n      <td>9</td>\n    </tr>\n    <tr>\n      <th>9</th>\n      <td>CCCC</td>\n      <td>12.873738</td>\n      <td>10</td>\n    </tr>\n  </tbody>\n</table>\n</div>"
     },
     "execution_count": 93,
     "metadata": {},
     "output_type": "execute_result"
    }
   ],
   "source": [
    "df_w[\"rank\"] = df_w.index + 1\n",
    "df_w = df_w[:1000]\n",
    "df_w.head(10)\n"
   ],
   "metadata": {
    "collapsed": false,
    "pycharm": {
     "name": "#%%\n"
    }
   }
  },
  {
   "cell_type": "code",
   "execution_count": 94,
   "outputs": [
    {
     "data": {
      "text/plain": "    name      score  rank\n0     cc  46.882612     1\n1    ccc  41.416363     2\n2   cccc  37.454273     3\n3  ccccc  34.226061     4\n4     CC  33.965738     5\n5    CCC  22.980744     6\n6     CN  18.242777     7\n7    ccC  17.466311     8\n8   cccC  15.778175     9\n9     cn  14.910307    10",
      "text/html": "<div>\n<style scoped>\n    .dataframe tbody tr th:only-of-type {\n        vertical-align: middle;\n    }\n\n    .dataframe tbody tr th {\n        vertical-align: top;\n    }\n\n    .dataframe thead th {\n        text-align: right;\n    }\n</style>\n<table border=\"1\" class=\"dataframe\">\n  <thead>\n    <tr style=\"text-align: right;\">\n      <th></th>\n      <th>name</th>\n      <th>score</th>\n      <th>rank</th>\n    </tr>\n  </thead>\n  <tbody>\n    <tr>\n      <th>0</th>\n      <td>cc</td>\n      <td>46.882612</td>\n      <td>1</td>\n    </tr>\n    <tr>\n      <th>1</th>\n      <td>ccc</td>\n      <td>41.416363</td>\n      <td>2</td>\n    </tr>\n    <tr>\n      <th>2</th>\n      <td>cccc</td>\n      <td>37.454273</td>\n      <td>3</td>\n    </tr>\n    <tr>\n      <th>3</th>\n      <td>ccccc</td>\n      <td>34.226061</td>\n      <td>4</td>\n    </tr>\n    <tr>\n      <th>4</th>\n      <td>CC</td>\n      <td>33.965738</td>\n      <td>5</td>\n    </tr>\n    <tr>\n      <th>5</th>\n      <td>CCC</td>\n      <td>22.980744</td>\n      <td>6</td>\n    </tr>\n    <tr>\n      <th>6</th>\n      <td>CN</td>\n      <td>18.242777</td>\n      <td>7</td>\n    </tr>\n    <tr>\n      <th>7</th>\n      <td>ccC</td>\n      <td>17.466311</td>\n      <td>8</td>\n    </tr>\n    <tr>\n      <th>8</th>\n      <td>cccC</td>\n      <td>15.778175</td>\n      <td>9</td>\n    </tr>\n    <tr>\n      <th>9</th>\n      <td>cn</td>\n      <td>14.910307</td>\n      <td>10</td>\n    </tr>\n  </tbody>\n</table>\n</div>"
     },
     "execution_count": 94,
     "metadata": {},
     "output_type": "execute_result"
    }
   ],
   "source": [
    "df_n[\"rank\"] = df_n.index + 1\n",
    "df_n = df_n[:1000]\n",
    "df_n.head(10)"
   ],
   "metadata": {
    "collapsed": false,
    "pycharm": {
     "name": "#%%\n"
    }
   }
  },
  {
   "cell_type": "markdown",
   "source": [
    "### Clean up Results\n",
    "We need to merge the two results into one dataframe.\n",
    "One column with the fragment, one with unweighted scores,\n",
    "one with the weighted scores.\n",
    "\n",
    "Once that is done, we can see how we can manipulate them to get answers."
   ],
   "metadata": {
    "collapsed": false
   }
  },
  {
   "cell_type": "code",
   "execution_count": 101,
   "outputs": [
    {
     "data": {
      "text/plain": "                     name  score_no_weight  rank_no_weight  score_weight  \\\n974               C=C<-X>         0.525448           975.0      0.512331   \n954              CC<-tBu>         0.533004           955.0      0.521442   \n814         CC<-C(=O)OMe>         0.597074           815.0      0.578767   \n917         CCCO<-C(=O)H>         0.551881           918.0      0.522183   \n863          CC(<-X>)<-X>         0.574461           864.0      0.546598   \n934             CCC<-C#N>         0.543199           935.0      0.510112   \n830              CC=C(C)C         0.589032           831.0      0.556325   \n990           CC<-C(=O)H>         0.515592           991.0      0.490092   \n951             cc<-OEt>c         0.534721           952.0      0.502643   \n766  c<-X>c<-X>c<-X>c<-X>         0.621698           767.0      0.596584   \n919     C<=O>NC<=O>NC<=O>         0.549547           920.0      0.512688   \n697           c<-C(=O)H>c         0.676094           698.0      0.638276   \n804       C<-O>C<-O>C<-O>         0.601194           805.0      0.564198   \n905           C<-X>CC<-X>         0.557947           906.0      0.517898   \n908         CC<=O>NC<=O>N         0.555943           909.0      0.517016   \n663          c<-C(=O)O>cc         0.709666           664.0      0.657062   \n705               CC<-X>C         0.670824           706.0      0.629751   \n899           CCC<-O>(C)C         0.559730           900.0      0.519231   \n762          c<-C(=O)H>cc         0.624753           763.0      0.595548   \n991         NC<=O>CC<=O>N         0.515257           992.0      0.483315   \n829         ccc<-C(=O)H>c         0.589652           830.0      0.550721   \n633           ccccc<-NO2>         0.731047           634.0      0.671391   \n653               CNc(n)n         0.717308           654.0      0.655720   \n995         c<-C(=O)O>ccc         0.514051           996.0      0.480576   \n860            CC<-O>(C)C         0.576096           861.0      0.530916   \n\n     rank_weight  score_diff  rank_diff      frac  \n974        858.0   -0.013117     -117.0 -2.496300  \n954        839.0   -0.011562     -116.0 -2.169178  \n814        721.0   -0.018307      -94.0 -3.066055  \n917        836.0   -0.029699      -82.0 -5.381332  \n863        784.0   -0.027864      -80.0 -4.850403  \n934        863.0   -0.033088      -72.0 -6.091274  \n830        761.0   -0.032706      -70.0 -5.552544  \n990        923.0   -0.025500      -68.0 -4.945769  \n951        887.0   -0.032078      -65.0 -5.999087  \n766        702.0   -0.025114      -65.0 -4.039515  \n919        856.0   -0.036859      -64.0 -6.707089  \n697        634.0   -0.037818      -64.0 -5.593599  \n804        744.0   -0.036996      -61.0 -6.153826  \n905        846.0   -0.040050      -60.0 -7.178055  \n908        849.0   -0.038926      -60.0 -7.001825  \n663        604.0   -0.052604      -60.0 -7.412538  \n705        647.0   -0.041073      -59.0 -6.122711  \n899        842.0   -0.040499      -58.0 -7.235533  \n762        706.0   -0.029205      -57.0 -4.674665  \n991        938.0   -0.031942      -54.0 -6.199261  \n829        776.0   -0.038930      -54.0 -6.602221  \n633        583.0   -0.059657      -51.0 -8.160458  \n653        606.0   -0.061588      -48.0 -8.586034  \n995        949.0   -0.033475      -47.0 -6.511949  \n860        814.0   -0.045180      -47.0 -7.842473  ",
      "text/html": "<div>\n<style scoped>\n    .dataframe tbody tr th:only-of-type {\n        vertical-align: middle;\n    }\n\n    .dataframe tbody tr th {\n        vertical-align: top;\n    }\n\n    .dataframe thead th {\n        text-align: right;\n    }\n</style>\n<table border=\"1\" class=\"dataframe\">\n  <thead>\n    <tr style=\"text-align: right;\">\n      <th></th>\n      <th>name</th>\n      <th>score_no_weight</th>\n      <th>rank_no_weight</th>\n      <th>score_weight</th>\n      <th>rank_weight</th>\n      <th>score_diff</th>\n      <th>rank_diff</th>\n      <th>frac</th>\n    </tr>\n  </thead>\n  <tbody>\n    <tr>\n      <th>974</th>\n      <td>C=C&lt;-X&gt;</td>\n      <td>0.525448</td>\n      <td>975.0</td>\n      <td>0.512331</td>\n      <td>858.0</td>\n      <td>-0.013117</td>\n      <td>-117.0</td>\n      <td>-2.496300</td>\n    </tr>\n    <tr>\n      <th>954</th>\n      <td>CC&lt;-tBu&gt;</td>\n      <td>0.533004</td>\n      <td>955.0</td>\n      <td>0.521442</td>\n      <td>839.0</td>\n      <td>-0.011562</td>\n      <td>-116.0</td>\n      <td>-2.169178</td>\n    </tr>\n    <tr>\n      <th>814</th>\n      <td>CC&lt;-C(=O)OMe&gt;</td>\n      <td>0.597074</td>\n      <td>815.0</td>\n      <td>0.578767</td>\n      <td>721.0</td>\n      <td>-0.018307</td>\n      <td>-94.0</td>\n      <td>-3.066055</td>\n    </tr>\n    <tr>\n      <th>917</th>\n      <td>CCCO&lt;-C(=O)H&gt;</td>\n      <td>0.551881</td>\n      <td>918.0</td>\n      <td>0.522183</td>\n      <td>836.0</td>\n      <td>-0.029699</td>\n      <td>-82.0</td>\n      <td>-5.381332</td>\n    </tr>\n    <tr>\n      <th>863</th>\n      <td>CC(&lt;-X&gt;)&lt;-X&gt;</td>\n      <td>0.574461</td>\n      <td>864.0</td>\n      <td>0.546598</td>\n      <td>784.0</td>\n      <td>-0.027864</td>\n      <td>-80.0</td>\n      <td>-4.850403</td>\n    </tr>\n    <tr>\n      <th>934</th>\n      <td>CCC&lt;-C#N&gt;</td>\n      <td>0.543199</td>\n      <td>935.0</td>\n      <td>0.510112</td>\n      <td>863.0</td>\n      <td>-0.033088</td>\n      <td>-72.0</td>\n      <td>-6.091274</td>\n    </tr>\n    <tr>\n      <th>830</th>\n      <td>CC=C(C)C</td>\n      <td>0.589032</td>\n      <td>831.0</td>\n      <td>0.556325</td>\n      <td>761.0</td>\n      <td>-0.032706</td>\n      <td>-70.0</td>\n      <td>-5.552544</td>\n    </tr>\n    <tr>\n      <th>990</th>\n      <td>CC&lt;-C(=O)H&gt;</td>\n      <td>0.515592</td>\n      <td>991.0</td>\n      <td>0.490092</td>\n      <td>923.0</td>\n      <td>-0.025500</td>\n      <td>-68.0</td>\n      <td>-4.945769</td>\n    </tr>\n    <tr>\n      <th>951</th>\n      <td>cc&lt;-OEt&gt;c</td>\n      <td>0.534721</td>\n      <td>952.0</td>\n      <td>0.502643</td>\n      <td>887.0</td>\n      <td>-0.032078</td>\n      <td>-65.0</td>\n      <td>-5.999087</td>\n    </tr>\n    <tr>\n      <th>766</th>\n      <td>c&lt;-X&gt;c&lt;-X&gt;c&lt;-X&gt;c&lt;-X&gt;</td>\n      <td>0.621698</td>\n      <td>767.0</td>\n      <td>0.596584</td>\n      <td>702.0</td>\n      <td>-0.025114</td>\n      <td>-65.0</td>\n      <td>-4.039515</td>\n    </tr>\n    <tr>\n      <th>919</th>\n      <td>C&lt;=O&gt;NC&lt;=O&gt;NC&lt;=O&gt;</td>\n      <td>0.549547</td>\n      <td>920.0</td>\n      <td>0.512688</td>\n      <td>856.0</td>\n      <td>-0.036859</td>\n      <td>-64.0</td>\n      <td>-6.707089</td>\n    </tr>\n    <tr>\n      <th>697</th>\n      <td>c&lt;-C(=O)H&gt;c</td>\n      <td>0.676094</td>\n      <td>698.0</td>\n      <td>0.638276</td>\n      <td>634.0</td>\n      <td>-0.037818</td>\n      <td>-64.0</td>\n      <td>-5.593599</td>\n    </tr>\n    <tr>\n      <th>804</th>\n      <td>C&lt;-O&gt;C&lt;-O&gt;C&lt;-O&gt;</td>\n      <td>0.601194</td>\n      <td>805.0</td>\n      <td>0.564198</td>\n      <td>744.0</td>\n      <td>-0.036996</td>\n      <td>-61.0</td>\n      <td>-6.153826</td>\n    </tr>\n    <tr>\n      <th>905</th>\n      <td>C&lt;-X&gt;CC&lt;-X&gt;</td>\n      <td>0.557947</td>\n      <td>906.0</td>\n      <td>0.517898</td>\n      <td>846.0</td>\n      <td>-0.040050</td>\n      <td>-60.0</td>\n      <td>-7.178055</td>\n    </tr>\n    <tr>\n      <th>908</th>\n      <td>CC&lt;=O&gt;NC&lt;=O&gt;N</td>\n      <td>0.555943</td>\n      <td>909.0</td>\n      <td>0.517016</td>\n      <td>849.0</td>\n      <td>-0.038926</td>\n      <td>-60.0</td>\n      <td>-7.001825</td>\n    </tr>\n    <tr>\n      <th>663</th>\n      <td>c&lt;-C(=O)O&gt;cc</td>\n      <td>0.709666</td>\n      <td>664.0</td>\n      <td>0.657062</td>\n      <td>604.0</td>\n      <td>-0.052604</td>\n      <td>-60.0</td>\n      <td>-7.412538</td>\n    </tr>\n    <tr>\n      <th>705</th>\n      <td>CC&lt;-X&gt;C</td>\n      <td>0.670824</td>\n      <td>706.0</td>\n      <td>0.629751</td>\n      <td>647.0</td>\n      <td>-0.041073</td>\n      <td>-59.0</td>\n      <td>-6.122711</td>\n    </tr>\n    <tr>\n      <th>899</th>\n      <td>CCC&lt;-O&gt;(C)C</td>\n      <td>0.559730</td>\n      <td>900.0</td>\n      <td>0.519231</td>\n      <td>842.0</td>\n      <td>-0.040499</td>\n      <td>-58.0</td>\n      <td>-7.235533</td>\n    </tr>\n    <tr>\n      <th>762</th>\n      <td>c&lt;-C(=O)H&gt;cc</td>\n      <td>0.624753</td>\n      <td>763.0</td>\n      <td>0.595548</td>\n      <td>706.0</td>\n      <td>-0.029205</td>\n      <td>-57.0</td>\n      <td>-4.674665</td>\n    </tr>\n    <tr>\n      <th>991</th>\n      <td>NC&lt;=O&gt;CC&lt;=O&gt;N</td>\n      <td>0.515257</td>\n      <td>992.0</td>\n      <td>0.483315</td>\n      <td>938.0</td>\n      <td>-0.031942</td>\n      <td>-54.0</td>\n      <td>-6.199261</td>\n    </tr>\n    <tr>\n      <th>829</th>\n      <td>ccc&lt;-C(=O)H&gt;c</td>\n      <td>0.589652</td>\n      <td>830.0</td>\n      <td>0.550721</td>\n      <td>776.0</td>\n      <td>-0.038930</td>\n      <td>-54.0</td>\n      <td>-6.602221</td>\n    </tr>\n    <tr>\n      <th>633</th>\n      <td>ccccc&lt;-NO2&gt;</td>\n      <td>0.731047</td>\n      <td>634.0</td>\n      <td>0.671391</td>\n      <td>583.0</td>\n      <td>-0.059657</td>\n      <td>-51.0</td>\n      <td>-8.160458</td>\n    </tr>\n    <tr>\n      <th>653</th>\n      <td>CNc(n)n</td>\n      <td>0.717308</td>\n      <td>654.0</td>\n      <td>0.655720</td>\n      <td>606.0</td>\n      <td>-0.061588</td>\n      <td>-48.0</td>\n      <td>-8.586034</td>\n    </tr>\n    <tr>\n      <th>995</th>\n      <td>c&lt;-C(=O)O&gt;ccc</td>\n      <td>0.514051</td>\n      <td>996.0</td>\n      <td>0.480576</td>\n      <td>949.0</td>\n      <td>-0.033475</td>\n      <td>-47.0</td>\n      <td>-6.511949</td>\n    </tr>\n    <tr>\n      <th>860</th>\n      <td>CC&lt;-O&gt;(C)C</td>\n      <td>0.576096</td>\n      <td>861.0</td>\n      <td>0.530916</td>\n      <td>814.0</td>\n      <td>-0.045180</td>\n      <td>-47.0</td>\n      <td>-7.842473</td>\n    </tr>\n  </tbody>\n</table>\n</div>"
     },
     "execution_count": 101,
     "metadata": {},
     "output_type": "execute_result"
    }
   ],
   "source": [
    "df = pd.merge(df_n, df_w, on=\"name\", how='outer', suffixes=(\"_no_weight\", \"_weight\"))\n",
    "df.dropna()\n",
    "df[\"score_diff\"] = df[\"score_weight\"] - df[\"score_no_weight\"]\n",
    "df[\"rank_diff\"] = df[\"rank_weight\"] - df[\"rank_no_weight\"]\n",
    "df[\"frac\"] = (df[\"score_weight\"] - df[\"score_no_weight\"])/df[\"score_no_weight\"]*100\n",
    "df = df[np.abs(df.score_diff) > 0.01]\n",
    "df.sort_values(by=\"rank_diff\", ascending=True).head(25)\n",
    "# df.head(15)"
   ],
   "metadata": {
    "collapsed": false,
    "pycharm": {
     "name": "#%%\n"
    }
   }
  },
  {
   "cell_type": "code",
   "execution_count": 96,
   "outputs": [
    {
     "data": {
      "text/plain": "       score_no_weight  rank_no_weight  score_weight  rank_weight  score_diff  \\\ncount       978.000000      978.000000    978.000000   978.000000  978.000000   \nmean          1.828634      490.530675      1.571115   491.209611   -0.257519   \nstd           3.442888      283.852073      2.918664   284.589000    0.526322   \nmin           0.513856        1.000000      0.456035     1.000000   -7.303351   \n25%           0.648836      245.250000      0.568223   245.250000   -0.225419   \n50%           0.925279      489.500000      0.802157   489.500000   -0.119070   \n75%           1.607536      735.750000      1.396581   736.750000   -0.078379   \nmax          46.882612      997.000000     39.579261  1000.000000   -0.011562   \n\n        rank_diff        frac  \ncount  978.000000  978.000000  \nmean     0.678937  -12.910130  \nstd     21.502783    2.441366  \nmin   -117.000000  -23.434538  \n25%     -6.000000  -14.573208  \n50%      0.000000  -13.197380  \n75%      6.000000  -11.513205  \nmax    170.000000   -2.169178  ",
      "text/html": "<div>\n<style scoped>\n    .dataframe tbody tr th:only-of-type {\n        vertical-align: middle;\n    }\n\n    .dataframe tbody tr th {\n        vertical-align: top;\n    }\n\n    .dataframe thead th {\n        text-align: right;\n    }\n</style>\n<table border=\"1\" class=\"dataframe\">\n  <thead>\n    <tr style=\"text-align: right;\">\n      <th></th>\n      <th>score_no_weight</th>\n      <th>rank_no_weight</th>\n      <th>score_weight</th>\n      <th>rank_weight</th>\n      <th>score_diff</th>\n      <th>rank_diff</th>\n      <th>frac</th>\n    </tr>\n  </thead>\n  <tbody>\n    <tr>\n      <th>count</th>\n      <td>978.000000</td>\n      <td>978.000000</td>\n      <td>978.000000</td>\n      <td>978.000000</td>\n      <td>978.000000</td>\n      <td>978.000000</td>\n      <td>978.000000</td>\n    </tr>\n    <tr>\n      <th>mean</th>\n      <td>1.828634</td>\n      <td>490.530675</td>\n      <td>1.571115</td>\n      <td>491.209611</td>\n      <td>-0.257519</td>\n      <td>0.678937</td>\n      <td>-12.910130</td>\n    </tr>\n    <tr>\n      <th>std</th>\n      <td>3.442888</td>\n      <td>283.852073</td>\n      <td>2.918664</td>\n      <td>284.589000</td>\n      <td>0.526322</td>\n      <td>21.502783</td>\n      <td>2.441366</td>\n    </tr>\n    <tr>\n      <th>min</th>\n      <td>0.513856</td>\n      <td>1.000000</td>\n      <td>0.456035</td>\n      <td>1.000000</td>\n      <td>-7.303351</td>\n      <td>-117.000000</td>\n      <td>-23.434538</td>\n    </tr>\n    <tr>\n      <th>25%</th>\n      <td>0.648836</td>\n      <td>245.250000</td>\n      <td>0.568223</td>\n      <td>245.250000</td>\n      <td>-0.225419</td>\n      <td>-6.000000</td>\n      <td>-14.573208</td>\n    </tr>\n    <tr>\n      <th>50%</th>\n      <td>0.925279</td>\n      <td>489.500000</td>\n      <td>0.802157</td>\n      <td>489.500000</td>\n      <td>-0.119070</td>\n      <td>0.000000</td>\n      <td>-13.197380</td>\n    </tr>\n    <tr>\n      <th>75%</th>\n      <td>1.607536</td>\n      <td>735.750000</td>\n      <td>1.396581</td>\n      <td>736.750000</td>\n      <td>-0.078379</td>\n      <td>6.000000</td>\n      <td>-11.513205</td>\n    </tr>\n    <tr>\n      <th>max</th>\n      <td>46.882612</td>\n      <td>997.000000</td>\n      <td>39.579261</td>\n      <td>1000.000000</td>\n      <td>-0.011562</td>\n      <td>170.000000</td>\n      <td>-2.169178</td>\n    </tr>\n  </tbody>\n</table>\n</div>"
     },
     "execution_count": 96,
     "metadata": {},
     "output_type": "execute_result"
    }
   ],
   "source": [
    "df.describe()"
   ],
   "metadata": {
    "collapsed": false,
    "pycharm": {
     "name": "#%%\n"
    }
   }
  }
 ],
 "metadata": {
  "kernelspec": {
   "name": "pycharm-8f9e2fe0",
   "language": "python",
   "display_name": "PyCharm (McQuade-Chem-ML)"
  },
  "language_info": {
   "codemirror_mode": {
    "name": "ipython",
    "version": 2
   },
   "file_extension": ".py",
   "mimetype": "text/x-python",
   "name": "python",
   "nbconvert_exporter": "python",
   "pygments_lexer": "ipython2",
   "version": "2.7.6"
  }
 },
 "nbformat": 4,
 "nbformat_minor": 0
}